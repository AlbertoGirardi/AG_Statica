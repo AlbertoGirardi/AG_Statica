{
 "cells": [
  {
   "cell_type": "markdown",
   "id": "816bf16e-983c-4ba4-96bb-f6f0ee4c93f6",
   "metadata": {},
   "source": [
    "# Definizione e utilizzo delle matrici con Python"
   ]
  },
  {
   "cell_type": "markdown",
   "id": "c7c92b02-6fcd-461c-bf13-efceab7d4ed6",
   "metadata": {
    "tags": []
   },
   "source": [
    "## Cosa sono e cosa servono le matrici\n",
    "Le matrici sono oggetti matematici che rappresentano una trasformazione lineare.\n",
    "\n",
    "Dati due vettori $x$ e $y$ ed uno scalare $\\alpha$ allora una trasformazione lineare F si comporta ne seguente modo \n",
    "$$\n",
    "F(x,y)  = F(x) + F(y)\\\\\n",
    "F(\\alpha x)  = \\alpha F(x) \n",
    "$$\n",
    "Ora le traslazioni e le rotazioni sono delle operazioni lineari quindi viene da se che possono essere rappresentate tramite delle matrici.\n"
   ]
  },
  {
   "cell_type": "markdown",
   "id": "567e24fd-357b-4adf-975c-2005c7b504ab",
   "metadata": {
    "tags": []
   },
   "source": [
    "## Vettori e matrici in Python\n",
    "Cominciamo per esempio dallo spazio bidimensionale. Vogliamo definire un vettore come una sequenza ordinata di numeri \n",
    "$$\n",
    "\\overline{x}  = \\begin{bmatrix}\n",
    "           x_{1} \\\\\n",
    "           x_{2} \\\\\n",
    "           x_{3}\n",
    "         \\end{bmatrix}\n",
    "$$\n",
    "\n",
    "  In Python è necessario usare  la libreria numpy per tutte le operazioni tra vettori (https://numpy.org/doc/stable/user/basics.html).\n",
    "  Proviamo ora a costruire un vettore con Python  e lo stampiamo a schermo"
   ]
  },
  {
   "cell_type": "code",
   "execution_count": 1,
   "id": "6fddaefd-aa10-49f0-89a6-74254082f38f",
   "metadata": {},
   "outputs": [
    {
     "name": "stdout",
     "output_type": "stream",
     "text": [
      "Stampiamo x = [1 2 3]\n"
     ]
    }
   ],
   "source": [
    "# Importare la libreria numpy\n",
    "import numpy as np\n",
    "# x array di due componenti\n",
    "x = np.array([1,2,3])\n",
    "print(\"Stampiamo x =\",x)\n"
   ]
  },
  {
   "cell_type": "markdown",
   "id": "4f713417-f56a-401d-b9b2-4870bc0134ee",
   "metadata": {},
   "source": [
    "**Nota**: per Python tutti i vettori 1D sono vettori riga e cioè non d'è differenza tra il vettore\n",
    "$$\n",
    "\\overline{x}  = \\begin{bmatrix}\n",
    "           x_{1} \\\\\n",
    "           x_{2} \\\\\n",
    "           x_{3}\n",
    "         \\end{bmatrix}\n",
    "$$\n",
    "e il vettore $\\overline{x}=[x_{1},x_{2}, x_{3}]$\n",
    "\n",
    "Proviamo ora a definire una matrice 2D $\\overline{\\overline{A}}$ con n righe e m colonne:\n",
    "\n",
    "$$\n",
    "\\overline{\\overline{A}}   = \\begin{bmatrix}\n",
    "           a_{1,1} & a_{1,2}&\\ldots &a_{1,m} \\\\\n",
    "           a_{2,1} & a_{2,2}&\\ldots&a_{2,m} \\\\\n",
    "           \\vdots &  \\vdots&\\vdots&\\vdots \\\\\n",
    "           a_{n,1} & a_{n,2}&\\ldots&a_{n,m}\n",
    "         \\end{bmatrix}\n",
    "$$"
   ]
  },
  {
   "cell_type": "code",
   "execution_count": 16,
   "id": "2647719f-b5fb-44df-98c2-4b3b455ca181",
   "metadata": {},
   "outputs": [
    {
     "name": "stdout",
     "output_type": "stream",
     "text": [
      "Stampiamo A =\n",
      " [[1 2 3]\n",
      " [4 5 6]\n",
      " [7 8 9]]\n",
      "Stampiamo B =\n",
      " [[0. 0. 0.]\n",
      " [0. 0. 0.]]\n"
     ]
    },
    {
     "data": {
      "text/plain": [
       "array([4, 5, 6])"
      ]
     },
     "execution_count": 16,
     "metadata": {},
     "output_type": "execute_result"
    }
   ],
   "source": [
    "A = np.array([[1,2,3],[4,5,6],[7,8,9]])\n",
    "print(\"Stampiamo A =\\n\",A)\n",
    "# Matrice con 2 righe e 3 colonne di soli zeri\n",
    "B = np.zeros((2,3))\n",
    "print(\"Stampiamo B =\\n\",B)\n",
    "\n",
    "A[1,:]"
   ]
  },
  {
   "cell_type": "markdown",
   "id": "ccfe7e05-e406-460f-9999-7e2697c54864",
   "metadata": {},
   "source": [
    "**Nota:** Sebbene un vettore possa considerarsi una matrice con una sola dimensione per numpy sono entità diverse.\n",
    "\n",
    "Proviamo ora ad accedere ad un elemento di una matrice o di un vettore, l'operazione si chiama indexing:"
   ]
  },
  {
   "cell_type": "code",
   "execution_count": 3,
   "id": "edc66316-3830-49df-be10-97f0e27ca38b",
   "metadata": {},
   "outputs": [
    {
     "name": "stdout",
     "output_type": "stream",
     "text": [
      "Indexing array:\n",
      "x1 =  1\n",
      "x2 =  2\n",
      "xn =  3\n",
      "Indexing matrice:\n",
      "a11 =  1\n",
      "a12 =  2\n",
      "anm =  9\n"
     ]
    }
   ],
   "source": [
    "# accediamo al primo elemento dell array x\n",
    "print(\"Indexing array:\")\n",
    "print(\"x1 = \",x[0])\n",
    "# accediamo al secondo elemento dell array x\n",
    "print(\"x2 = \",x[1])\n",
    "# accediamo all'ultimo elemento dell array x\n",
    "print(\"xn = \",x[-1])\n",
    "# accediamo al primo elemento della matrice A\n",
    "print(\"Indexing matrice:\")\n",
    "print(\"a11 = \", A[0,0])\n",
    "# accediamo al secondo elemento  della matrice A procedendo per righe\n",
    "print(\"a12 = \",A[0,1])\n",
    "# accediamo all'ultimo elemento della matrice A\n",
    "print(\"anm = \",A[-1,-1])"
   ]
  },
  {
   "cell_type": "markdown",
   "id": "eda2d3f8-4659-4cef-b79f-ef2ad9b27e02",
   "metadata": {},
   "source": [
    "Funzioni intrinseche della classe array che possono risultare utili sono:"
   ]
  },
  {
   "cell_type": "code",
   "execution_count": 4,
   "id": "dcafae8f-2fd7-4e3a-8179-6e79df45c0fe",
   "metadata": {},
   "outputs": [
    {
     "name": "stdout",
     "output_type": "stream",
     "text": [
      "nele A = 9\n",
      "shape A = (3, 3)\n",
      "shape x = (3,)\n"
     ]
    }
   ],
   "source": [
    "# numero di elementi in un array\n",
    "print(\"nele A =\",A.size)\n",
    "# numero righe colonne etc di un array\n",
    "print(\"shape A =\",A.shape)\n",
    "print(\"shape x =\",x.shape)"
   ]
  },
  {
   "cell_type": "markdown",
   "id": "076e6c9c-bdba-4277-864f-b52bd6c43213",
   "metadata": {},
   "source": [
    "## Operazioni algebriche principali\n",
    "Cominciamo dal **prodotto di un array per uno scalare**\n",
    "$$\n",
    "\\overline{y} = \\alpha\\overline{x}\\\\\n",
    "\\overline{\\overline{B}} = \\alpha\\overline{\\overline{A}}\n",
    "$$"
   ]
  },
  {
   "cell_type": "code",
   "execution_count": 5,
   "id": "0d5e80a3-6b38-4055-a50c-48e11390cd3d",
   "metadata": {},
   "outputs": [
    {
     "name": "stdout",
     "output_type": "stream",
     "text": [
      "x= [1 2 3]\n",
      "y = alpha*x= [0.5 1.  1.5]\n"
     ]
    }
   ],
   "source": [
    "alpha = 0.5\n",
    "y = x*alpha\n",
    "print('x=',x)\n",
    "print('y = alpha*x=',y)"
   ]
  },
  {
   "cell_type": "code",
   "execution_count": 6,
   "id": "74c2ad5f-c2a3-43e2-a4c8-b3f2870c18bd",
   "metadata": {},
   "outputs": [
    {
     "name": "stdout",
     "output_type": "stream",
     "text": [
      "A=\n",
      " [[1 2 3]\n",
      " [4 5 6]\n",
      " [7 8 9]]\n",
      "B = alpha*A=\n",
      " [[0.5 1.  1.5]\n",
      " [2.  2.5 3. ]\n",
      " [3.5 4.  4.5]]\n"
     ]
    }
   ],
   "source": [
    "B = A*alpha\n",
    "print('A=\\n',A)\n",
    "print('B = alpha*A=\\n',B)"
   ]
  },
  {
   "cell_type": "markdown",
   "id": "0d594b23-16ce-48da-9368-c55344885ba3",
   "metadata": {},
   "source": [
    "**Somma di due vettori** o due matrici:\n",
    "$$\n",
    "\\overline{z} = \\overline{x}  + \\overline{y}\\\\\n",
    "\\overline{\\overline{C}} = \\overline{\\overline{A}} + \\overline{\\overline{B}}\n",
    "$$"
   ]
  },
  {
   "cell_type": "code",
   "execution_count": 7,
   "id": "f992f0a4-170d-41c2-99bf-1367f1c55a31",
   "metadata": {},
   "outputs": [
    {
     "name": "stdout",
     "output_type": "stream",
     "text": [
      "A=\n",
      " [[1 2 3]\n",
      " [4 5 6]\n",
      " [7 8 9]]\n",
      "B=\n",
      " [[0.5 1.  1.5]\n",
      " [2.  2.5 3. ]\n",
      " [3.5 4.  4.5]]\n",
      "C = A + B=\n",
      " [[ 1.5  3.   4.5]\n",
      " [ 6.   7.5  9. ]\n",
      " [10.5 12.  13.5]]\n"
     ]
    }
   ],
   "source": [
    "C = A + B\n",
    "print('A=\\n',A)\n",
    "print('B=\\n',B)\n",
    "print('C = A + B=\\n',C)"
   ]
  },
  {
   "cell_type": "markdown",
   "id": "b40640cf-804b-4b0c-944b-11841f12e16e",
   "metadata": {},
   "source": [
    "**Prodotto elemento per elemento di due array**, in Python si indica con il la * e  dà un altro vettore definito nel seguente modo\n",
    "$$\n",
    "\\overline{z}  = \\overline{x}  * \\overline{y} = \\begin{bmatrix}\n",
    "           x_{1}y_{1} \\\\\n",
    "           x_{2}y_{2} \\\\\n",
    "           x_{3}y_{3}\n",
    "         \\end{bmatrix}\n",
    "$$"
   ]
  },
  {
   "cell_type": "code",
   "execution_count": 8,
   "id": "e1e401e8-4b74-4742-a937-131a431669a7",
   "metadata": {},
   "outputs": [
    {
     "name": "stdout",
     "output_type": "stream",
     "text": [
      "x=\n",
      " [1 2 3]\n",
      "y=\n",
      " [0.5 1.  1.5]\n",
      "z=x*y\n",
      " [0.5 2.  4.5]\n"
     ]
    }
   ],
   "source": [
    "# utilizzando il prodotto element wise\n",
    "z = x*y\n",
    "print(\"x=\\n\",x)\n",
    "print(\"y=\\n\",y)\n",
    "print(\"z=x*y\\n\",z)"
   ]
  },
  {
   "cell_type": "markdown",
   "id": "5569c461-81b7-4bfe-8214-f0daa0198662",
   "metadata": {},
   "source": [
    "**Prodotto scalare** tra vettori:\n",
    "$$\n",
    "\\beta = \\overline{x} \\cdot \\overline{y} = \\sum_i{x_iy_i}\\\\\n",
    "$$\n",
    "fornisce come risultato uno scalare che corrisponde alla formula $\\beta = |\\overline{x}| |\\overline{y}|\\cos(\\theta)$ "
   ]
  },
  {
   "cell_type": "code",
   "execution_count": 9,
   "id": "f22a639a-baeb-4551-9549-e9c6dc38b714",
   "metadata": {},
   "outputs": [
    {
     "name": "stdout",
     "output_type": "stream",
     "text": [
      "beta  = x.y= 7.0\n",
      "beta  = sum(xi.yi)= 7\n"
     ]
    }
   ],
   "source": [
    "# utilizzando il prodotto tra array\n",
    "beta = x@y\n",
    "print(\"beta  = x.y=\",beta)\n",
    "# utilizzando la definizione prodotto elementwise più somma\n",
    "beta = np.sum(x*y)\n",
    "print(\"beta  = sum(xi.yi)= {:g}\".format(beta))"
   ]
  },
  {
   "cell_type": "markdown",
   "id": "87b9a8de-ef2e-46fa-a411-33b760b20c5e",
   "metadata": {
    "tags": []
   },
   "source": [
    "## Prodotto matrice e vettore\n",
    "Il prodotto matrice vettore è un prodotto fondamentale nell'algebra lineare. \n",
    "Può essere considerato un caso particolare del prodotto riga per colonna definito per due matrici come \n",
    "$$\n",
    "  \\overline{\\overline{C}} = \\overline{\\overline{A}} \\cdot \\overline{\\overline{B}} \\\\\n",
    "$$\n",
    "Il risultato del prodotto tra una matrice  A(n,p) (n righe e p colonne) e B(p,m) (p righe e m colonne) è una terza matrice che ha il numero di righe della prima matrice ed il numero di colonne della seconda matrice e cioè C(n,m). Inoltre, il termine generico, cij, della matrice C alla i-esima riga e j-esima colonna  si calcola come:\n",
    "$$\n",
    "c_{i,j} = a_{i,1}b_{1,j}+a_{i,2}b_{2,j} + \\ldots + a_{i,p}b_{p,j}\n",
    "$$\n",
    "Il termine cij rappresenta il risultato del prodotto scalare tra la i-esima riga del primo moltiplicando,$\\overline{\\overline{A}}$, e la j-esima colonna del secondo moltiplicando,$\\overline{\\overline{B}}$.\n",
    "\n",
    "Il caso del prodotto matrice vettore può essere visto come un caso particolare in cui il secondo moltiplicando ha una sola colonna x(p,1) mentre la matrice deve essere del tipo A(n,p).\n",
    "In questo caso il risultato sarà di nuovo un vettore y(n,1):\n",
    "$$\n",
    " \\overline{y} = \\overline{\\overline{A}}\\overline{x} \\\\\n",
    "    \\begin{bmatrix}\n",
    "           y_{1}  \\\\\n",
    "           y_{2}  \\\\\n",
    "           \\vdots  \\\\\n",
    "           y_{n}\n",
    "         \\end{bmatrix}=\n",
    "        \\begin{bmatrix}\n",
    "           a_{1,1} & a_{1,2}&\\ldots &a_{1,p} \\\\\n",
    "           a_{2,1} & a_{2,2}&\\ldots&a_{2,p} \\\\\n",
    "           \\vdots & a_{2,2}&\\vdots&\\vdots \\\\\n",
    "           a_{n,1} & a_{n,2}&\\ldots&a_{n,p}\n",
    "         \\end{bmatrix} \n",
    "        \\begin{bmatrix}\n",
    "           x_{1}  \\\\\n",
    "           x_{2}  \\\\\n",
    "           \\vdots  \\\\\n",
    "           x_{p}\n",
    "         \\end{bmatrix} =\n",
    "         \\begin{bmatrix}\n",
    "           a_{1,1}x_1 + a_{1,2}x_2+\\ldots+a_{1,p}x_p \\\\\n",
    "           a_{2,1}x_1 + a_{2,2}x_2+\\ldots+a_{2,p}x_p \\\\\n",
    "           \\vdots  \\\\\n",
    "           a_{n,1}x_1 + a_{n,2}x_2+\\ldots+a_{n,p}x_p\n",
    "         \\end{bmatrix} \n",
    "$$\n"
   ]
  },
  {
   "cell_type": "markdown",
   "id": "211e2755-7cd4-4412-aff2-7680b761070b",
   "metadata": {},
   "source": [
    "Facciamo ora un esempio pratico, calcoliamo il prodotto matrice vettore sia con l'operatore @ di Python sia con la definizione."
   ]
  },
  {
   "cell_type": "code",
   "execution_count": 10,
   "id": "e9ab7a2c-611b-4ca9-9381-11c25676c2a5",
   "metadata": {},
   "outputs": [
    {
     "name": "stdout",
     "output_type": "stream",
     "text": [
      "[[1 2]\n",
      " [0 1]]\n"
     ]
    },
    {
     "data": {
      "text/plain": [
       "array([3, 1])"
      ]
     },
     "execution_count": 10,
     "metadata": {},
     "output_type": "execute_result"
    }
   ],
   "source": [
    "# facciamo il prodotto della matrice A con il vettore x\n",
    "\n",
    "\n",
    "\n",
    "B = np.array([[1,2],[0,1 ]])\n",
    "print(B)\n",
    "\n",
    "t = np.array([1,1])\n",
    "t\n",
    "\n",
    "c = B@t\n",
    "c\n",
    "\n"
   ]
  },
  {
   "cell_type": "code",
   "execution_count": 11,
   "id": "1450c7b8-cae8-404b-8db2-8b76527b3611",
   "metadata": {},
   "outputs": [
    {
     "name": "stdout",
     "output_type": "stream",
     "text": [
      "Colonne di A sono uguali al numero di componenti x\\?n True\n",
      "z = Ax =\n",
      " [14. 32. 50.]\n"
     ]
    }
   ],
   "source": [
    "# proviamo a riprodurlo dalla definizione\n",
    "shA = A.shape\n",
    "nA = shA[0]\n",
    "mA = shA[1]\n",
    "shx = x.shape\n",
    "# check colonne righe\n",
    "print(\"Colonne di A sono uguali al numero di componenti x\\?n\",shA[1] == shx[0])\n",
    "#inizializzazione del vettore risultato\n",
    "z = np.zeros(shx)\n",
    "\n",
    "for i in range(nA):\n",
    "  for j in range(mA):\n",
    "    z[i]  = z[i] +   A[i,j]*x[j]\n",
    "\n",
    "print(\"z = Ax =\\n\",z)"
   ]
  },
  {
   "cell_type": "markdown",
   "id": "99800036-f2b0-4d8e-82d7-305a455209b5",
   "metadata": {},
   "source": [
    "## Matrici di rotazione\n",
    "Nello spazio 2D le matrici di rotazione sono matrici 2x2 e sono fatte nel seguente modo\n",
    "$$\n",
    "R(\\theta) =   \\begin{bmatrix}\n",
    "           cos(\\theta)& -sin(\\theta) \\\\\n",
    "           sin(\\theta)& cos(\\theta)\n",
    "       \\end{bmatrix} \n",
    "$$"
   ]
  },
  {
   "cell_type": "markdown",
   "id": "7712b005-3287-4d35-94cf-6efc2eca1f49",
   "metadata": {},
   "source": [
    "Utilizziamo un esempio pratico per visulazzare come agiscono le matrici di rotazione.\n",
    "Definiamo da prima una funzione che generi la matrice di rotazione:"
   ]
  },
  {
   "cell_type": "code",
   "execution_count": 12,
   "id": "7f27fc4a-c2fb-491e-9ef2-1db3809b22b9",
   "metadata": {},
   "outputs": [],
   "source": [
    "def gen_mat(theta):\n",
    "  R= [[np.cos(theta),-np.sin(theta)],\n",
    "      [np.sin(theta),np.cos(theta)]]\n",
    "  return R\n",
    "theta = np.pi/4\n",
    "R = gen_mat(theta)\n"
   ]
  },
  {
   "cell_type": "markdown",
   "id": "e3059261-45b1-40ed-8a36-847def37cae7",
   "metadata": {},
   "source": [
    "Proviamo ad applicare la matrice di rotazione al vettore unitario parallelo all'asse delle x, $v = [1,0]^T$\n",
    "$$\n",
    " \\overline{w} = \\overline{\\overline{R}}\\overline{v}\n",
    "$$"
   ]
  },
  {
   "cell_type": "code",
   "execution_count": 13,
   "id": "4aff6181-6391-4535-803f-79949626546f",
   "metadata": {},
   "outputs": [
    {
     "data": {
      "image/png": "[encoded data removed]",
      "text/plain": [
       "<Figure size 640x480 with 1 Axes>"
      ]
     },
     "metadata": {},
     "output_type": "display_data"
    },
    {
     "data": {
      "image/png": "[encoded data removed]",
      "text/plain": [
       "<Figure size 640x480 with 1 Axes>"
      ]
     },
     "metadata": {},
     "output_type": "display_data"
    }
   ],
   "source": [
    "import matplotlib.pyplot as plt\n",
    "xO = 0. # punto di applicazione vettore\n",
    "yO = 0.\n",
    "vx = 1. # coordinate del vettore libero\n",
    "vy = 0.\n",
    "fig,ax = plt.subplots()\n",
    "# vettore origianale\n",
    "v = np.array([vx,vy]) # vettore libero\n",
    "ax.set_title (\"vettore originale\")\n",
    "ax.quiver(xO,yO,vx,vy,angles='xy', scale_units='xy', scale=1)\n",
    "ax.axis([-1, 2, -1, 2])\n",
    "ax.grid(True)\n",
    "#vettore ruotato\n",
    "w = R@v\n",
    "wx = w[0]\n",
    "wy = w[1]\n",
    "fig,ax = plt.subplots()\n",
    "ax.set_title (\"vettore ruotato\")\n",
    "ax.quiver(xO,yO,wx,wy,angles='xy', scale_units='xy', scale=1)\n",
    "ax.axis([-1, 2, -1, 2])\n",
    "ax.grid(True)"
   ]
  },
  {
   "cell_type": "markdown",
   "id": "2bec5a69-44c2-4bfe-b03a-74fd3e0bfdf1",
   "metadata": {},
   "source": [
    "L'applicazione della matrice di rotazione R ruota il vettore v di un angolo $\\theta$ in senso antiorario. Si può verificare che il vettore mantiene lo stesso modulo."
   ]
  },
  {
   "cell_type": "code",
   "execution_count": 14,
   "id": "0763c2f7-3e28-49bb-a350-a1a64dbf837b",
   "metadata": {},
   "outputs": [
    {
     "name": "stdout",
     "output_type": "stream",
     "text": [
      "|v| = 1\n",
      "\n",
      "|w| = 1\n",
      "\n"
     ]
    }
   ],
   "source": [
    "# verifica del modulo\n",
    "modv = np.sqrt(v@v)\n",
    "modw = np.sqrt(w@w)\n",
    "print(\"|v| = {:g}\\n\".format(modv))\n",
    "print(\"|w| = {:g}\\n\".format(modw))"
   ]
  },
  {
   "cell_type": "code",
   "execution_count": null,
   "id": "2ab8bbab-716f-41a5-9f22-0a9c0f92ee43",
   "metadata": {},
   "outputs": [],
   "source": []
  }
 ],
 "metadata": {
  "kernelspec": {
   "display_name": "Python 3 (ipykernel)",
   "language": "python",
   "name": "python3"
  },
  "language_info": {
   "codemirror_mode": {
    "name": "ipython",
    "version": 3
   },
   "file_extension": ".py",
   "mimetype": "text/x-python",
   "name": "python",
   "nbconvert_exporter": "python",
   "pygments_lexer": "ipython3",
   "version": "3.11.5"
  }
 },
 "nbformat": 4,
 "nbformat_minor": 5
}
