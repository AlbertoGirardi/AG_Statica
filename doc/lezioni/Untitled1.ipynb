{
 "cells": [
  {
   "cell_type": "code",
   "execution_count": 7,
   "id": "cc142838-4b75-41f9-8b59-2164dd57e0d6",
   "metadata": {},
   "outputs": [
    {
     "data": {
      "text/plain": [
       "array([-15., -10.])"
      ]
     },
     "execution_count": 7,
     "metadata": {},
     "output_type": "execute_result"
    }
   ],
   "source": [
    "import numpy as np\n",
    "k = 5\n",
    "u = np.zeros(6)\n",
    "u[0] = 3\n",
    "u[1] = 2\n",
    "\n",
    "u[:2]\n",
    "\n",
    "def f():\n",
    "    return -k*u[:2]\n",
    "\n",
    "f()\n"
   ]
  }
 ],
 "metadata": {
  "kernelspec": {
   "display_name": "Python 3 (ipykernel)",
   "language": "python",
   "name": "python3"
  },
  "language_info": {
   "codemirror_mode": {
    "name": "ipython",
    "version": 3
   },
   "file_extension": ".py",
   "mimetype": "text/x-python",
   "name": "python",
   "nbconvert_exporter": "python",
   "pygments_lexer": "ipython3",
   "version": "3.11.5"
  }
 },
 "nbformat": 4,
 "nbformat_minor": 5
}
