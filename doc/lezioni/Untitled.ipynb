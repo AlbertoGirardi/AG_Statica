{
 "cells": [
  {
   "cell_type": "code",
   "execution_count": 1,
   "id": "eb7e5efe-d212-4a1c-b5d5-09bc1e495417",
   "metadata": {},
   "outputs": [
    {
     "name": "stdout",
     "output_type": "stream",
     "text": [
      "x\n",
      "y\n",
      "a\n",
      "vx\n",
      "vy\n",
      "w\n",
      "0\n"
     ]
    },
    {
     "data": {
      "text/plain": [
       "array([1, 2])"
      ]
     },
     "execution_count": 1,
     "metadata": {},
     "output_type": "execute_result"
    }
   ],
   "source": [
    "\n",
    "\n",
    "graphs = {'x': 0, 'y':1 ,'a':2, 'vx':3, 'vy':4,'w':5 }\n",
    "\n",
    "\n",
    "for g in graphs.keys():\n",
    "    print(g)\n",
    "\n",
    "\n",
    "print(graphs['x']) \n",
    "\n",
    "import numpy as np\n",
    "\n",
    "np.array([1,2])\n",
    "\n",
    "    "
   ]
  },
  {
   "cell_type": "code",
   "execution_count": 6,
   "id": "4706ec05",
   "metadata": {},
   "outputs": [
    {
     "data": {
      "text/plain": [
       "1.0"
      ]
     },
     "execution_count": 6,
     "metadata": {},
     "output_type": "execute_result"
    }
   ],
   "source": [
    "v = np.array([-1,0])\n",
    "w = np.array([0,1])\n",
    "\n",
    "np.linalg.norm(np.cross(v,w))\n"
   ]
  },
  {
   "cell_type": "code",
   "execution_count": 3,
   "id": "e4a646c4",
   "metadata": {},
   "outputs": [
    {
     "data": {
      "text/plain": [
       "array([[ 1,  7],\n",
       "       [ 2,  8],\n",
       "       [ 3,  9],\n",
       "       [ 4, 10]])"
      ]
     },
     "execution_count": 3,
     "metadata": {},
     "output_type": "execute_result"
    }
   ],
   "source": [
    "import numpy as np\n",
    "\n",
    "a = np.array([[1,2,3,4],[7,8,9,10]])\n",
    "\n",
    "a.T"
   ]
  }
 ],
 "metadata": {
  "kernelspec": {
   "display_name": "Python 3 (ipykernel)",
   "language": "python",
   "name": "python3"
  },
  "language_info": {
   "codemirror_mode": {
    "name": "ipython",
    "version": 3
   },
   "file_extension": ".py",
   "mimetype": "text/x-python",
   "name": "python",
   "nbconvert_exporter": "python",
   "pygments_lexer": "ipython3",
   "version": "3.11.5"
  }
 },
 "nbformat": 4,
 "nbformat_minor": 5
}
