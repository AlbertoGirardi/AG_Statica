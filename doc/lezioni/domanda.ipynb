{
 "cells": [
  {
   "cell_type": "markdown",
   "metadata": {},
   "source": [
    "Un paio di domande per chiarezza:\n",
    "\n",
    "1. Quando si calcolano i vincoli sostituendoli con molla/smorzatore/massa fittizia, le reazioni vincolari sono comunque valide come valori di forza? La risposta mi pare intuitivamente sì, però volevo essere sicuro. La ragione sarebbe che se le condizioni di vincolo sono rispettate, le forze vincolari fittizie (perchè generate da questi elementi fittizi) sono una ottima approssimazione di quelle reali. La massa fittizia, poi, è solo un metodo di avere una componente di forza (legata all'inerzia) che è proporzionale alla derivata seconda della funzione di vincolo (la distanza tra i punti che dovrebbero essere sovrapposti)\n",
    "\n",
    "2. La Jacobiana: all'inizio la seguente parte mi era risultata poco chiara:\n",
    "\n",
    "$$\n",
    "    \\dot{\\overline{g}}(\\overline{q}) = \\overline{\\overline{D}}\\dot{\\overline{q}} = 0 \\\\\n",
    "\n",
    "    \\ddot{\\overline{g}}(\\overline{q}) = \\overline{\\overline{D}}\\ddot{\\overline{q}}  + \\dot{\\overline{\\overline{D}}}\\dot{\\overline{q}} = 0 \\\\\n",
    "    \n",
    "    \\overline{\\overline{D}}\\ddot{\\overline{q}}  = - \\dot{\\overline{\\overline{D}}}\\,\\dot{\\overline{q}} = \\overline{\\gamma}   \n",
    "$$\n",
    "\n",
    "Infatti non capivo perchè la derivata della funzione di vincolo fosse una matrice moltiplicata per la derivata delle coordinate (argomento della funzione). Stavo infatti cercando di applicare la regola della catena, dato che chiaramente si vuole la derivata della funzione di vincolo rispetto al tempo, e le coordinate sono funzione del tempo a loro volta. Chiaramente $\\dot{\\overline{q}}$ è la derivata dell'argomento, ma non capivo perchè la derivata della funzione rispetto all'argomento fosse una matrice. Avevo provato a leggere qualcosa sulla jacobiana in generale ma era troppo complesso per me, ma avevo letto che fosse usata per scrivere la derivata di una funzione vettoriale. È cosi? Il calcolo della $\\ddot{\\overline{g}}(\\overline{q})$ è invece una ovvia applicazione della regola delle derivate dei prodotti, e qua non ho dubbi.\n",
    "\n",
    "\n",
    "$$\n",
    "\\frac{d}{{dx}}\\left[ {f\\left( u \\right)} \\right] = \\frac{d}{{du}}\\left[ {f\\left( u \\right)} \\right]\\frac{{du}}{{dx}}\n",
    "$$\n",
    "\n",
    "\n",
    "Solo dopo, rileggendo il documento, ho considerato quella parte alla luce di quella successiva (dove usando le già note formule per velocità e accelerazione dei punti si calcolano le eq. di vincolo e le sue derivate) e ho capito il collegamento, e perchè si usasse una matrice per scrivere la derivata prima. Però dall'introduzione mi era sembrato strano e arbitrario. L'unica cosa che mi elude ancora è un'intuizione di perchè la matrice Jacobiana che usiamo per trasformare le coordinate nel valore della funzione di vincolo (e le derivate di tutte queste) è la stessa (o meglio, la trasposta) che ci permette di trasformare le forze vincolari locali rispetto al punto di vincolo in forza/momento rispetto al baricentro. Capisco che il calcolo viene fuori così svolgendolo, ma sto cercando una giustificazione logica."
   ]
  },
  {
   "cell_type": "markdown",
   "metadata": {},
   "source": []
  }
 ],
 "metadata": {
  "kernelspec": {
   "display_name": "Python 3",
   "language": "python",
   "name": "python3"
  },
  "language_info": {
   "name": "python",
   "version": "3.11.5"
  }
 },
 "nbformat": 4,
 "nbformat_minor": 2
}
